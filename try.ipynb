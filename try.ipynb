{
 "cells": [
  {
   "cell_type": "code",
   "execution_count": 11,
   "metadata": {},
   "outputs": [],
   "source": [
    "import tkinter as tk\n",
    "\n",
    "class LoginApp:\n",
    "    def __init__(self, root):\n",
    "        self.root = root\n",
    "        self.is_dark_mode = False \n",
    "\n",
    "        self.light_mode = {\n",
    "            'bg': '#333',\n",
    "            'fg' : 'black',\n",
    "            'btn_bg': '#ddd',\n",
    "            'btn_fg': 'black'\n",
    "        }\n",
    "        self.dark_mode = {\n",
    "            'bg': 'white',\n",
    "            'fg' : 'white',\n",
    "            'btn_bg': '#444',\n",
    "            'btn_fg': 'white'\n",
    "        }\n",
    "\n",
    "\n",
    "\n",
    "\n",
    "        self.toggle_button = tk.Button(root, text=\"Toggle Dark Mode\", command= self.toggle_theme)\n",
    "        self.toggle_button.grid(row=3, column=0, columnspan=2, pady=10)\n",
    "\n",
    "        self.apply_theme(self.light_mode)\n",
    "\n",
    "\n",
    "    def apply_theme(self, theme):\n",
    "            self.root.config(bg=theme['bg'])\n",
    "\n",
    "            for widget in self.root.winfo_children():\n",
    "                widget_type = widget.winfo_class()\n",
    "\n",
    "                if widget_type == 'Button':\n",
    "                    widget.config(bg=theme['btn_bg'], fg=theme['btn_fg'])\n",
    "    \n",
    "    def toggle_theme(self):\n",
    "        if self.is_dark_mode:\n",
    "              self.apply_theme(self.light_mode)\n",
    "        else:\n",
    "            self.apply_theme(self.dark_mode)\n",
    "        \n",
    "        self.is_dark_mode = not self.is_dark_mode\n",
    "root = tk.Tk()\n",
    "root.title = ('Theme')\n",
    "app = LoginApp(root)\n",
    "root.mainloop()"
   ]
  }
 ],
 "metadata": {
  "kernelspec": {
   "display_name": "Python 3",
   "language": "python",
   "name": "python3"
  },
  "language_info": {
   "codemirror_mode": {
    "name": "ipython",
    "version": 3
   },
   "file_extension": ".py",
   "mimetype": "text/x-python",
   "name": "python",
   "nbconvert_exporter": "python",
   "pygments_lexer": "ipython3",
   "version": "3.11.5"
  }
 },
 "nbformat": 4,
 "nbformat_minor": 2
}
